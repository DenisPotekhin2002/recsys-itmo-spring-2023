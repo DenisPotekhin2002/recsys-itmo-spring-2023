{
 "cells": [
  {
   "cell_type": "markdown",
   "metadata": {},
   "source": [
    "# Week 1 Seminar\n",
    "\n",
    "A/B experiment analysis"
   ]
  },
  {
   "cell_type": "code",
   "execution_count": 49,
   "metadata": {
    "tags": []
   },
   "outputs": [],
   "source": [
    "from collections import namedtuple\n",
    "\n",
    "import pandas as pd\n",
    "import numpy as np\n",
    "import scipy.stats as ss\n",
    "\n",
    "import matplotlib.pyplot as plt\n",
    "\n",
    "pd.set_option(\"display.precision\", 3)\n",
    "\n",
    "%matplotlib inline"
   ]
  },
  {
   "cell_type": "code",
   "execution_count": 50,
   "metadata": {
    "tags": []
   },
   "outputs": [],
   "source": [
    "experiment = \"MYREC\""
   ]
  },
  {
   "cell_type": "code",
   "execution_count": 51,
   "metadata": {
    "tags": []
   },
   "outputs": [],
   "source": [
    "data = pd.read_json(\"C:\\\\Users\\\\denis\\\\recsys_hw\\\\recsys-itmo-spring-2023\\\\botify\\\\logs\\\\data09r.json\", lines=True)\n",
    "data[\"treatment\"] = data[\"experiments\"].map(lambda experiments: experiments[experiment])"
   ]
  },
  {
   "cell_type": "code",
   "execution_count": 52,
   "metadata": {
    "tags": []
   },
   "outputs": [
    {
     "data": {
      "text/html": [
       "<div>\n",
       "<style scoped>\n",
       "    .dataframe tbody tr th:only-of-type {\n",
       "        vertical-align: middle;\n",
       "    }\n",
       "\n",
       "    .dataframe tbody tr th {\n",
       "        vertical-align: top;\n",
       "    }\n",
       "\n",
       "    .dataframe thead th {\n",
       "        text-align: right;\n",
       "    }\n",
       "</style>\n",
       "<table border=\"1\" class=\"dataframe\">\n",
       "  <thead>\n",
       "    <tr style=\"text-align: right;\">\n",
       "      <th></th>\n",
       "      <th>message</th>\n",
       "      <th>timestamp</th>\n",
       "      <th>user</th>\n",
       "      <th>track</th>\n",
       "      <th>time</th>\n",
       "      <th>latency</th>\n",
       "      <th>recommendation</th>\n",
       "      <th>experiments</th>\n",
       "      <th>treatment</th>\n",
       "    </tr>\n",
       "  </thead>\n",
       "  <tbody>\n",
       "    <tr>\n",
       "      <th>0</th>\n",
       "      <td>next</td>\n",
       "      <td>2023-04-07 18:48:39.032</td>\n",
       "      <td>2073</td>\n",
       "      <td>19478</td>\n",
       "      <td>1.00</td>\n",
       "      <td>4.795e-03</td>\n",
       "      <td>3077.0</td>\n",
       "      <td>{'MYREC': 'C'}</td>\n",
       "      <td>C</td>\n",
       "    </tr>\n",
       "    <tr>\n",
       "      <th>1</th>\n",
       "      <td>next</td>\n",
       "      <td>2023-04-07 18:48:39.507</td>\n",
       "      <td>3634</td>\n",
       "      <td>15266</td>\n",
       "      <td>1.00</td>\n",
       "      <td>8.616e-04</td>\n",
       "      <td>1948.0</td>\n",
       "      <td>{'MYREC': 'C'}</td>\n",
       "      <td>C</td>\n",
       "    </tr>\n",
       "    <tr>\n",
       "      <th>2</th>\n",
       "      <td>next</td>\n",
       "      <td>2023-04-07 18:48:39.922</td>\n",
       "      <td>3634</td>\n",
       "      <td>1948</td>\n",
       "      <td>0.01</td>\n",
       "      <td>1.411e-03</td>\n",
       "      <td>1086.0</td>\n",
       "      <td>{'MYREC': 'C'}</td>\n",
       "      <td>C</td>\n",
       "    </tr>\n",
       "    <tr>\n",
       "      <th>3</th>\n",
       "      <td>next</td>\n",
       "      <td>2023-04-07 18:48:39.937</td>\n",
       "      <td>2073</td>\n",
       "      <td>3077</td>\n",
       "      <td>1.00</td>\n",
       "      <td>1.301e-03</td>\n",
       "      <td>1520.0</td>\n",
       "      <td>{'MYREC': 'C'}</td>\n",
       "      <td>C</td>\n",
       "    </tr>\n",
       "    <tr>\n",
       "      <th>4</th>\n",
       "      <td>next</td>\n",
       "      <td>2023-04-07 18:48:39.953</td>\n",
       "      <td>3634</td>\n",
       "      <td>1086</td>\n",
       "      <td>0.00</td>\n",
       "      <td>9.692e-04</td>\n",
       "      <td>2254.0</td>\n",
       "      <td>{'MYREC': 'C'}</td>\n",
       "      <td>C</td>\n",
       "    </tr>\n",
       "  </tbody>\n",
       "</table>\n",
       "</div>"
      ],
      "text/plain": [
       "  message               timestamp  user  track  time    latency  \\\n",
       "0    next 2023-04-07 18:48:39.032  2073  19478  1.00  4.795e-03   \n",
       "1    next 2023-04-07 18:48:39.507  3634  15266  1.00  8.616e-04   \n",
       "2    next 2023-04-07 18:48:39.922  3634   1948  0.01  1.411e-03   \n",
       "3    next 2023-04-07 18:48:39.937  2073   3077  1.00  1.301e-03   \n",
       "4    next 2023-04-07 18:48:39.953  3634   1086  0.00  9.692e-04   \n",
       "\n",
       "   recommendation     experiments treatment  \n",
       "0          3077.0  {'MYREC': 'C'}         C  \n",
       "1          1948.0  {'MYREC': 'C'}         C  \n",
       "2          1086.0  {'MYREC': 'C'}         C  \n",
       "3          1520.0  {'MYREC': 'C'}         C  \n",
       "4          2254.0  {'MYREC': 'C'}         C  "
      ]
     },
     "execution_count": 52,
     "metadata": {},
     "output_type": "execute_result"
    }
   ],
   "source": [
    "data.head()"
   ]
  },
  {
   "cell_type": "markdown",
   "metadata": {},
   "source": [
    "## Visualize sessions"
   ]
  },
  {
   "cell_type": "code",
   "execution_count": 53,
   "metadata": {
    "tags": []
   },
   "outputs": [],
   "source": [
    "Session = namedtuple(\"Session\", [\"timestamp\", \"tracks\", \"time\", \"latency\"])\n",
    "\n",
    "def sessionize(user_data):\n",
    "    sessions = []\n",
    "    session = None\n",
    "    for _, row in user_data.sort_values(\"timestamp\").iterrows():\n",
    "        if session is None:\n",
    "            session = Session(row[\"timestamp\"], 0, 0, 0)\n",
    "        \n",
    "        session = session._replace(\n",
    "            tracks = session.tracks + 1, \n",
    "            time = session.time + row[\"time\"],\n",
    "            latency = session.latency + row[\"latency\"] * 1000,\n",
    "        )\n",
    "        \n",
    "        if row[\"message\"] == \"last\":\n",
    "            sessions.append(session._asdict())\n",
    "            session = None\n",
    "    return sessions"
   ]
  },
  {
   "cell_type": "code",
   "execution_count": 54,
   "metadata": {
    "tags": []
   },
   "outputs": [],
   "source": [
    "sessions = (\n",
    "    data\n",
    "    .groupby([\"user\", \"treatment\"])\n",
    "    .apply(sessionize)\n",
    "    .explode()\n",
    "    .apply(pd.Series)\n",
    ")"
   ]
  },
  {
   "cell_type": "code",
   "execution_count": 55,
   "metadata": {
    "tags": []
   },
   "outputs": [
    {
     "data": {
      "image/png": "[encoded data removed]",
      "text/plain": [
       "<Figure size 1080x360 with 1 Axes>"
      ]
     },
     "metadata": {
      "needs_background": "light"
     },
     "output_type": "display_data"
    }
   ],
   "source": [
    "figure, ax = plt.subplots(figsize=(15, 5))\n",
    "for treatment, treatment_sessions in sessions.groupby(\"treatment\"):\n",
    "    reindexed_treatment_sessions = treatment_sessions.sort_values(\"timestamp\").reset_index()\n",
    "    ax.plot(reindexed_treatment_sessions.index, reindexed_treatment_sessions[\"tracks\"], label=treatment)\n",
    "ax.legend()\n",
    "pass"
   ]
  },
  {
   "cell_type": "code",
   "execution_count": 56,
   "metadata": {
    "tags": []
   },
   "outputs": [
    {
     "data": {
      "image/png": "[encoded data removed]",
      "text/plain": [
       "<Figure size 1080x360 with 1 Axes>"
      ]
     },
     "metadata": {
      "needs_background": "light"
     },
     "output_type": "display_data"
    }
   ],
   "source": [
    "figure, ax = plt.subplots(figsize=(15, 5))\n",
    "for treatment, treatment_sessions in sessions.groupby(\"treatment\"):\n",
    "    reindexed_treatment_sessions = treatment_sessions.sort_values(\"timestamp\").reset_index()\n",
    "    ax.plot(reindexed_treatment_sessions.index, reindexed_treatment_sessions[\"time\"], label=treatment)\n",
    "ax.legend()\n",
    "pass"
   ]
  },
  {
   "cell_type": "markdown",
   "metadata": {},
   "source": [
    "## Analyze the experiment"
   ]
  },
  {
   "cell_type": "code",
   "execution_count": 57,
   "metadata": {
    "tags": []
   },
   "outputs": [],
   "source": [
    "user_level_data = (\n",
    "  sessions\n",
    "    .reset_index()\n",
    "    .groupby([\"user\", \"treatment\"])\n",
    "    .agg(\n",
    "        {\n",
    "            \"timestamp\": \"count\",\n",
    "            \"tracks\": \"sum\",\n",
    "            \"time\": \"sum\",\n",
    "            \"latency\": \"sum\"\n",
    "        }\n",
    "    )\n",
    ")\n",
    "\n",
    "user_level_data[\"sessions\"] = user_level_data[\"timestamp\"]\n",
    "user_level_data[\"mean_request_latency\"] = user_level_data[\"latency\"] / user_level_data[\"tracks\"]\n",
    "user_level_data[\"mean_tracks_per_session\"] = user_level_data[\"tracks\"] / user_level_data[\"sessions\"]\n",
    "user_level_data[\"mean_time_per_session\"] = user_level_data[\"time\"] / user_level_data[\"sessions\"]\n",
    "\n",
    "metrics = [\n",
    "    \"time\", \n",
    "    \"sessions\", \n",
    "    \"mean_request_latency\", \n",
    "    \"mean_tracks_per_session\", \n",
    "    \"mean_time_per_session\"\n",
    "]\n",
    "\n",
    "user_level_metrics = user_level_data[metrics].copy().reset_index()"
   ]
  },
  {
   "cell_type": "code",
   "execution_count": 58,
   "metadata": {
    "tags": []
   },
   "outputs": [],
   "source": [
    "treatment_level_metrics = (\n",
    "    user_level_metrics\n",
    "    .groupby(\"treatment\")[metrics]\n",
    "    .agg([\"count\", \"mean\", \"var\"])\n",
    ")"
   ]
  },
  {
   "cell_type": "code",
   "execution_count": 59,
   "metadata": {
    "tags": []
   },
   "outputs": [],
   "source": [
    "def dof(n_0, n_1, s2_0, s2_1):\n",
    "    numerator = (s2_0 / n_0 + s2_1 / n_1) * (s2_0 / n_0 + s2_1 / n_1)\n",
    "    denominator = s2_0 * s2_0 / n_0 / n_0 / (n_0 - 1) + s2_1 * s2_1 / n_1 / n_1 / (n_1 - 1)\n",
    "    return numerator / denominator\n",
    "\n",
    "\n",
    "def ci(n_0, n_1, s2_0, s2_1, alpha=0.05):\n",
    "    return ss.t.ppf(1 - alpha/2, dof(n_0, n_1, s2_0, s2_1)) * np.sqrt(s2_0 / n_0 + s2_1 / n_1)\n",
    "\n",
    "\n",
    "effects = []\n",
    "\n",
    "control = [data for treatment, data in treatment_level_metrics.iterrows() if treatment == \"C\"][0]\n",
    "\n",
    "for treatment, row in treatment_level_metrics.iterrows():\n",
    "    if treatment == \"C\":\n",
    "        continue\n",
    "    \n",
    "    for metric in metrics:\n",
    "        control_mean = control[metric][\"mean\"]\n",
    "        treatment_mean = row[metric][\"mean\"]\n",
    "        \n",
    "        effect = treatment_mean - control_mean\n",
    "        conf_int = ci(\n",
    "            control[metric][\"count\"],\n",
    "            row[metric][\"count\"],\n",
    "            control[metric][\"var\"],\n",
    "            row[metric][\"var\"],\n",
    "        )\n",
    "        effects.append({\n",
    "            \"treatment\": treatment,\n",
    "            \"metric\": metric,\n",
    "            \"control_mean\": control_mean,\n",
    "            \"treatment_mean\": treatment_mean,\n",
    "            \"effect\": effect / control_mean * 100,\n",
    "            \"lower\": (effect - conf_int) / control_mean * 100,\n",
    "            \"upper\": (effect + conf_int) / control_mean * 100,\n",
    "            \"significant\": (effect + conf_int) * (effect - conf_int) > 0\n",
    "        })"
   ]
  },
  {
   "cell_type": "code",
   "execution_count": 60,
   "metadata": {
    "tags": []
   },
   "outputs": [
    {
     "data": {
      "text/html": [
       "<style  type=\"text/css\" >\n",
       "#T_2e657_row0_col2,#T_2e657_row0_col3,#T_2e657_row0_col4,#T_2e657_row1_col2,#T_2e657_row1_col3,#T_2e657_row2_col2,#T_2e657_row2_col3,#T_2e657_row2_col4,#T_2e657_row3_col2,#T_2e657_row3_col3,#T_2e657_row3_col4{\n",
       "            color: green;\n",
       "        }#T_2e657_row0_col7,#T_2e657_row2_col7,#T_2e657_row3_col7,#T_2e657_row4_col7{\n",
       "            color: white;\n",
       "            background-color: green;\n",
       "        }#T_2e657_row1_col4,#T_2e657_row4_col2,#T_2e657_row4_col3,#T_2e657_row4_col4{\n",
       "            color: red;\n",
       "        }#T_2e657_row1_col7{\n",
       "            color: white;\n",
       "            background-color: red;\n",
       "        }</style><table id=\"T_2e657_\" ><thead>    <tr>        <th class=\"blank level0\" ></th>        <th class=\"col_heading level0 col0\" >treatment</th>        <th class=\"col_heading level0 col1\" >metric</th>        <th class=\"col_heading level0 col2\" >effect</th>        <th class=\"col_heading level0 col3\" >upper</th>        <th class=\"col_heading level0 col4\" >lower</th>        <th class=\"col_heading level0 col5\" >control_mean</th>        <th class=\"col_heading level0 col6\" >treatment_mean</th>        <th class=\"col_heading level0 col7\" >significant</th>    </tr></thead><tbody>\n",
       "                <tr>\n",
       "                        <th id=\"T_2e657_level0_row0\" class=\"row_heading level0 row0\" >0</th>\n",
       "                        <td id=\"T_2e657_row0_col0\" class=\"data row0 col0\" >T1</td>\n",
       "                        <td id=\"T_2e657_row0_col1\" class=\"data row0 col1\" >time</td>\n",
       "                        <td id=\"T_2e657_row0_col2\" class=\"data row0 col2\" >108.456</td>\n",
       "                        <td id=\"T_2e657_row0_col3\" class=\"data row0 col3\" >118.913</td>\n",
       "                        <td id=\"T_2e657_row0_col4\" class=\"data row0 col4\" >97.999</td>\n",
       "                        <td id=\"T_2e657_row0_col5\" class=\"data row0 col5\" >6.435</td>\n",
       "                        <td id=\"T_2e657_row0_col6\" class=\"data row0 col6\" >13.414</td>\n",
       "                        <td id=\"T_2e657_row0_col7\" class=\"data row0 col7\" >True</td>\n",
       "            </tr>\n",
       "            <tr>\n",
       "                        <th id=\"T_2e657_level0_row1\" class=\"row_heading level0 row1\" >1</th>\n",
       "                        <td id=\"T_2e657_row1_col0\" class=\"data row1 col0\" >T1</td>\n",
       "                        <td id=\"T_2e657_row1_col1\" class=\"data row1 col1\" >sessions</td>\n",
       "                        <td id=\"T_2e657_row1_col2\" class=\"data row1 col2\" >2.071</td>\n",
       "                        <td id=\"T_2e657_row1_col3\" class=\"data row1 col3\" >4.725</td>\n",
       "                        <td id=\"T_2e657_row1_col4\" class=\"data row1 col4\" >-0.583</td>\n",
       "                        <td id=\"T_2e657_row1_col5\" class=\"data row1 col5\" >1.320</td>\n",
       "                        <td id=\"T_2e657_row1_col6\" class=\"data row1 col6\" >1.347</td>\n",
       "                        <td id=\"T_2e657_row1_col7\" class=\"data row1 col7\" >False</td>\n",
       "            </tr>\n",
       "            <tr>\n",
       "                        <th id=\"T_2e657_level0_row2\" class=\"row_heading level0 row2\" >3</th>\n",
       "                        <td id=\"T_2e657_row2_col0\" class=\"data row2 col0\" >T1</td>\n",
       "                        <td id=\"T_2e657_row2_col1\" class=\"data row2 col1\" >mean_tracks_per_session</td>\n",
       "                        <td id=\"T_2e657_row2_col2\" class=\"data row2 col2\" >51.426</td>\n",
       "                        <td id=\"T_2e657_row2_col3\" class=\"data row2 col3\" >56.370</td>\n",
       "                        <td id=\"T_2e657_row2_col4\" class=\"data row2 col4\" >46.481</td>\n",
       "                        <td id=\"T_2e657_row2_col5\" class=\"data row2 col5\" >9.901</td>\n",
       "                        <td id=\"T_2e657_row2_col6\" class=\"data row2 col6\" >14.993</td>\n",
       "                        <td id=\"T_2e657_row2_col7\" class=\"data row2 col7\" >True</td>\n",
       "            </tr>\n",
       "            <tr>\n",
       "                        <th id=\"T_2e657_level0_row3\" class=\"row_heading level0 row3\" >4</th>\n",
       "                        <td id=\"T_2e657_row3_col0\" class=\"data row3 col0\" >T1</td>\n",
       "                        <td id=\"T_2e657_row3_col1\" class=\"data row3 col1\" >mean_time_per_session</td>\n",
       "                        <td id=\"T_2e657_row3_col2\" class=\"data row3 col2\" >104.872</td>\n",
       "                        <td id=\"T_2e657_row3_col3\" class=\"data row3 col3\" >114.705</td>\n",
       "                        <td id=\"T_2e657_row3_col4\" class=\"data row3 col4\" >95.040</td>\n",
       "                        <td id=\"T_2e657_row3_col5\" class=\"data row3 col5\" >4.875</td>\n",
       "                        <td id=\"T_2e657_row3_col6\" class=\"data row3 col6\" >9.988</td>\n",
       "                        <td id=\"T_2e657_row3_col7\" class=\"data row3 col7\" >True</td>\n",
       "            </tr>\n",
       "            <tr>\n",
       "                        <th id=\"T_2e657_level0_row4\" class=\"row_heading level0 row4\" >2</th>\n",
       "                        <td id=\"T_2e657_row4_col0\" class=\"data row4 col0\" >T1</td>\n",
       "                        <td id=\"T_2e657_row4_col1\" class=\"data row4 col1\" >mean_request_latency</td>\n",
       "                        <td id=\"T_2e657_row4_col2\" class=\"data row4 col2\" >-8.739</td>\n",
       "                        <td id=\"T_2e657_row4_col3\" class=\"data row4 col3\" >-2.967</td>\n",
       "                        <td id=\"T_2e657_row4_col4\" class=\"data row4 col4\" >-14.511</td>\n",
       "                        <td id=\"T_2e657_row4_col5\" class=\"data row4 col5\" >1.396</td>\n",
       "                        <td id=\"T_2e657_row4_col6\" class=\"data row4 col6\" >1.274</td>\n",
       "                        <td id=\"T_2e657_row4_col7\" class=\"data row4 col7\" >True</td>\n",
       "            </tr>\n",
       "    </tbody></table>"
      ],
      "text/plain": [
       "<pandas.io.formats.style.Styler at 0x21d8bcfe5b0>"
      ]
     },
     "execution_count": 60,
     "metadata": {},
     "output_type": "execute_result"
    }
   ],
   "source": [
    "def color(value):\n",
    "    return 'color:red;' if value < 0 else 'color:green;'\n",
    "\n",
    "def background(value):\n",
    "    return 'color:white;background-color:green' if value else 'color:white;background-color:red'\n",
    "        \n",
    "\n",
    "(\n",
    "    pd.DataFrame(effects)[[\n",
    "        \"treatment\", \n",
    "        \"metric\",\n",
    "        \"effect\", \n",
    "        \"upper\", \n",
    "        \"lower\", \n",
    "        \"control_mean\", \n",
    "        \"treatment_mean\",\n",
    "        \"significant\"\n",
    "    ]]\n",
    "    .sort_values([\"metric\", \"treatment\"], ascending=False)\n",
    "    .style\n",
    "    .applymap(color, subset=[\"effect\", \"upper\", \"lower\"])\n",
    "    .applymap(background, subset=[\"significant\"])\n",
    ")"
   ]
  },
  {
   "cell_type": "code",
   "execution_count": null,
   "metadata": {},
   "outputs": [],
   "source": []
  }
 ],
 "metadata": {
  "kernelspec": {
   "display_name": "base",
   "language": "python",
   "name": "python3"
  },
  "language_info": {
   "codemirror_mode": {
    "name": "ipython",
    "version": 3
   },
   "file_extension": ".py",
   "mimetype": "text/x-python",
   "name": "python",
   "nbconvert_exporter": "python",
   "pygments_lexer": "ipython3",
   "version": "3.9.0"
  },
  "vscode": {
   "interpreter": {
    "hash": "1f04826dcc96a008917c6ca87a3c8a3a31b12c4446b40a25ad8fed7744102fd3"
   }
  }
 },
 "nbformat": 4,
 "nbformat_minor": 4
}
